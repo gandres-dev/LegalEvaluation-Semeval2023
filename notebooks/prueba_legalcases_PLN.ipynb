{
  "cells": [
    {
      "cell_type": "markdown",
      "source": [
        "## Bibliotecas a utilizar"
      ],
      "metadata": {
        "id": "UV3uDa5ibmbY"
      }
    },
    {
      "cell_type": "code",
      "source": [
        "%%capture\n",
        "!pip install contractions\n",
        "\n",
        "import re\n",
        "import os\n",
        "import nltk\n",
        "import string\n",
        "import json\n",
        "import pandas as pd\n",
        "import numpy as np\n",
        "import seaborn as sns\n",
        "import matplotlib.pyplot as plt\n",
        "from sklearn.feature_extraction.text import TfidfVectorizer\n",
        "import contractions\n",
        "import codecs\n",
        "\n",
        "\n",
        "!wget -qO- -O stopwords_english.txt \\\n",
        "         https://raw.githubusercontent.com/pan-webis-de/authorid/master/data/stopwords_english.txt\n",
        "\n",
        "\n",
        "# Creando una lista de stopwords\n",
        "stopwords = []\n",
        "for line in codecs.open('stopwords_english.txt', encoding = \"utf-8\"):\n",
        "    # Remove black space if they exist\n",
        "    stopwords.append(line.strip())\n",
        "stopwords = dict.fromkeys(stopwords, True)\n",
        "\n",
        "\n",
        "# Descargando el dataset\n",
        "if not os.path.exists('train.json'):\n",
        "  !wget https://storage.googleapis.com/indianlegalbert/OPEN_SOURCED_FILES/Rhetorical_Role_Benchmark/Data/train.json\n",
        "  !wget https://storage.googleapis.com/indianlegalbert/OPEN_SOURCED_FILES/Rhetorical_Role_Benchmark/Data/dev.json\n",
        "\n",
        "nltk.download('punkt', quiet=True)\n",
        "nltk.download('stopwords', quiet=True)"
      ],
      "metadata": {
        "id": "RnI6LB12A5Qe"
      },
      "execution_count": 1,
      "outputs": []
    },
    {
      "cell_type": "markdown",
      "source": [
        "# LegalEval: Understanding Legal Texts\n"
      ],
      "metadata": {
        "id": "mySbDeJ6b25F"
      }
    },
    {
      "cell_type": "markdown",
      "source": [
        "## Analisis exploratorio"
      ],
      "metadata": {
        "id": "KhdfXr2Pb7ix"
      }
    },
    {
      "cell_type": "code",
      "execution_count": 2,
      "metadata": {
        "id": "p06hdCTIA1_6"
      },
      "outputs": [],
      "source": [
        "# Leyendo el conjunto de entrenamiento\n",
        "f = open('train.json')\n",
        "data = json.load(f)\n",
        "f.close()\n",
        "\n",
        "# Leyendo el conjunto de prueba\n",
        "f = open('dev.json')\n",
        "dev = json.load(f)\n",
        "f.close()"
      ]
    },
    {
      "cell_type": "markdown",
      "source": [
        "Conociendo la estructura del dataset"
      ],
      "metadata": {
        "id": "RgrLrqUOcJAV"
      }
    },
    {
      "cell_type": "code",
      "execution_count": 3,
      "metadata": {
        "colab": {
          "base_uri": "https://localhost:8080/"
        },
        "id": "1J-eECC5A1_7",
        "outputId": "7141a97a-ba47-483b-c602-6b610643115c"
      },
      "outputs": [
        {
          "output_type": "stream",
          "name": "stdout",
          "text": [
            "id : <class 'int'>\n",
            "annotations : <class 'list'>\n",
            "data : <class 'dict'>\n",
            "meta : <class 'dict'>\n"
          ]
        }
      ],
      "source": [
        "for k,v  in data[0].items():\n",
        "    print(f'{k} : {type(v)}')"
      ]
    },
    {
      "cell_type": "code",
      "execution_count": 4,
      "metadata": {
        "id": "KJLNiP1oA1_8"
      },
      "outputs": [],
      "source": [
        "test_annotations = data[0]['annotations']\n",
        "test_data = data[0]['data']\n",
        "test_meta = data[0]['meta']"
      ]
    },
    {
      "cell_type": "code",
      "execution_count": 5,
      "metadata": {
        "colab": {
          "base_uri": "https://localhost:8080/"
        },
        "id": "7xT2Az9uA1_9",
        "outputId": "b7594fcb-eb11-46ec-a6de-812d2b57582c"
      },
      "outputs": [
        {
          "output_type": "stream",
          "name": "stdout",
          "text": [
            "91\n",
            "<class 'list'>\n",
            "{'id': 'd7a902fe9c23417499a7ef782f9fbdeb', 'type': 'labels', 'to_name': 'text', 'from_name': 'label', 'value': {'start': 0, 'end': 116, 'text': '      IN THE HIGH COURT OF KARNATAKA,\\n          CIRCUIT BENCH AT GULBARGA\\n\\nDATED THIS THE 22ND DAY OF FEBRUARY, 2013', 'labels': ['PREAMBLE']}}\n"
          ]
        }
      ],
      "source": [
        "print(len(test_annotations[0]['result']))\n",
        "print(type(test_annotations[0]['result']))\n",
        "for x in test_annotations[0]['result']:\n",
        "    print(x)\n",
        "    break"
      ]
    },
    {
      "cell_type": "code",
      "execution_count": 6,
      "metadata": {
        "colab": {
          "base_uri": "https://localhost:8080/"
        },
        "id": "a8cPXMnCA1_9",
        "outputId": "566e902e-936b-47fe-c2ad-6ce041d216b7"
      },
      "outputs": [
        {
          "output_type": "stream",
          "name": "stdout",
          "text": [
            "text : <class 'str'> : 16540\n"
          ]
        }
      ],
      "source": [
        "for k,v  in test_data.items():\n",
        "    print(f'{k} : {type(v)} : {len(v)}')"
      ]
    },
    {
      "cell_type": "code",
      "execution_count": 7,
      "metadata": {
        "colab": {
          "base_uri": "https://localhost:8080/"
        },
        "id": "vyn0IboTA1_-",
        "outputId": "59a8d23c-5259-4c3a-d034-e0f02a6da79c"
      },
      "outputs": [
        {
          "output_type": "stream",
          "name": "stdout",
          "text": [
            "group : <class 'str'> : Criminal\n"
          ]
        }
      ],
      "source": [
        "for k,v  in test_meta.items():\n",
        "    print(f'{k} : {type(v)} : {v}')"
      ]
    },
    {
      "cell_type": "code",
      "execution_count": 8,
      "metadata": {
        "colab": {
          "base_uri": "https://localhost:8080/"
        },
        "id": "3Ub_6AToA1__",
        "outputId": "162f57ba-4fd2-43e2-d9b7-96527cf5483e"
      },
      "outputs": [
        {
          "output_type": "stream",
          "name": "stdout",
          "text": [
            "id : <class 'int'>\n",
            "annotations : <class 'list'>\n",
            "data : <class 'dict'>\n",
            "meta : <class 'dict'>\n"
          ]
        }
      ],
      "source": [
        "for k,v  in dev[0].items():\n",
        "    print(f'{k} : {type(v)}')"
      ]
    },
    {
      "cell_type": "code",
      "execution_count": 9,
      "metadata": {
        "colab": {
          "base_uri": "https://localhost:8080/"
        },
        "id": "KpW2ne_MA1__",
        "outputId": "8e4b4d90-2377-4dfc-cade-b3c99c37e7eb"
      },
      "outputs": [
        {
          "output_type": "stream",
          "name": "stdout",
          "text": [
            "id : <class 'int'>\n",
            "annotations : <class 'list'>\n",
            "data : <class 'dict'>\n",
            "meta : <class 'dict'>\n"
          ]
        }
      ],
      "source": [
        "for k,v  in data[0].items():\n",
        "    print(f'{k} : {type(v)}')"
      ]
    },
    {
      "cell_type": "code",
      "execution_count": 10,
      "metadata": {
        "colab": {
          "base_uri": "https://localhost:8080/"
        },
        "id": "HNWVKFutA2AA",
        "outputId": "b79c74a0-32ab-4e3a-d723-ab0271e17db6"
      },
      "outputs": [
        {
          "output_type": "stream",
          "name": "stdout",
          "text": [
            "<class 'dict'>\n",
            "{'id': 'd7a902fe9c23417499a7ef782f9fbdeb', 'type': 'labels', 'to_name': 'text', 'from_name': 'label', 'value': {'start': 0, 'end': 116, 'text': '      IN THE HIGH COURT OF KARNATAKA,\\n          CIRCUIT BENCH AT GULBARGA\\n\\nDATED THIS THE 22ND DAY OF FEBRUARY, 2013', 'labels': ['PREAMBLE']}}\n"
          ]
        }
      ],
      "source": [
        "for x in test_annotations[0]['result']:\n",
        "    print(type(x))\n",
        "    print(x)\n",
        "    break"
      ]
    },
    {
      "cell_type": "code",
      "execution_count": 11,
      "metadata": {
        "id": "Lzk-wiWCA2AB"
      },
      "outputs": [],
      "source": [
        "def json_to_dataframe(data):\n",
        "    id = []\n",
        "    start = []\n",
        "    end = []\n",
        "    text = []\n",
        "    label = []\n",
        "\n",
        "    for d in data:\n",
        "        id_text = d['id']\n",
        "        for x in d['annotations']:\n",
        "            info = x['result']\n",
        "            for i in info:\n",
        "                i_dict = i['value']\n",
        "                id.append(id_text)\n",
        "                start.append(i_dict['start'])\n",
        "                end.append(i_dict['end'])\n",
        "                text.append(i_dict['text'])\n",
        "                label.append(i_dict['labels'][0])\n",
        "            \n",
        "    df_train = pd.DataFrame(list(zip(id,start,end,text,label)), columns=['id','start','end','text','label'])\n",
        "    return(df_train)"
      ]
    },
    {
      "cell_type": "code",
      "execution_count": 12,
      "metadata": {
        "id": "PMvaLowxA2AC"
      },
      "outputs": [],
      "source": [
        "df_train = json_to_dataframe(data)\n",
        "df_train.drop_duplicates(inplace=True)\n",
        "df_test = json_to_dataframe(dev)"
      ]
    },
    {
      "cell_type": "code",
      "execution_count": 13,
      "metadata": {
        "colab": {
          "base_uri": "https://localhost:8080/",
          "height": 224
        },
        "id": "GeSxGs_PA2AC",
        "outputId": "49c4f553-8846-45ad-99b8-56f255e37360"
      },
      "outputs": [
        {
          "output_type": "stream",
          "name": "stdout",
          "text": [
            "(28836, 5)\n"
          ]
        },
        {
          "output_type": "execute_result",
          "data": {
            "text/plain": [
              "     id  start   end                                               text  \\\n",
              "0  1735      0   116        IN THE HIGH COURT OF KARNATAKA,\\n       ...   \n",
              "1  1735    116   678  \\n\\n      BEFORE\\n\\nTHE HON'BLE MR.JUSTICE ANA...   \n",
              "2  1735    678   964  This Criminal Appeal is filed under Section 37...   \n",
              "3  1735    964  1093  \\n\\n       This appeal coming on for hearing t...   \n",
              "4  1735   1093  1180  \\n       Heard the learned Counsel for the app...   \n",
              "\n",
              "      label  \n",
              "0  PREAMBLE  \n",
              "1  PREAMBLE  \n",
              "2  PREAMBLE  \n",
              "3  PREAMBLE  \n",
              "4      NONE  "
            ],
            "text/html": [
              "\n",
              "  <div id=\"df-6c2e978a-9a8d-49ee-93ac-248fe64cf2e4\">\n",
              "    <div class=\"colab-df-container\">\n",
              "      <div>\n",
              "<style scoped>\n",
              "    .dataframe tbody tr th:only-of-type {\n",
              "        vertical-align: middle;\n",
              "    }\n",
              "\n",
              "    .dataframe tbody tr th {\n",
              "        vertical-align: top;\n",
              "    }\n",
              "\n",
              "    .dataframe thead th {\n",
              "        text-align: right;\n",
              "    }\n",
              "</style>\n",
              "<table border=\"1\" class=\"dataframe\">\n",
              "  <thead>\n",
              "    <tr style=\"text-align: right;\">\n",
              "      <th></th>\n",
              "      <th>id</th>\n",
              "      <th>start</th>\n",
              "      <th>end</th>\n",
              "      <th>text</th>\n",
              "      <th>label</th>\n",
              "    </tr>\n",
              "  </thead>\n",
              "  <tbody>\n",
              "    <tr>\n",
              "      <th>0</th>\n",
              "      <td>1735</td>\n",
              "      <td>0</td>\n",
              "      <td>116</td>\n",
              "      <td>IN THE HIGH COURT OF KARNATAKA,\\n       ...</td>\n",
              "      <td>PREAMBLE</td>\n",
              "    </tr>\n",
              "    <tr>\n",
              "      <th>1</th>\n",
              "      <td>1735</td>\n",
              "      <td>116</td>\n",
              "      <td>678</td>\n",
              "      <td>\\n\\n      BEFORE\\n\\nTHE HON'BLE MR.JUSTICE ANA...</td>\n",
              "      <td>PREAMBLE</td>\n",
              "    </tr>\n",
              "    <tr>\n",
              "      <th>2</th>\n",
              "      <td>1735</td>\n",
              "      <td>678</td>\n",
              "      <td>964</td>\n",
              "      <td>This Criminal Appeal is filed under Section 37...</td>\n",
              "      <td>PREAMBLE</td>\n",
              "    </tr>\n",
              "    <tr>\n",
              "      <th>3</th>\n",
              "      <td>1735</td>\n",
              "      <td>964</td>\n",
              "      <td>1093</td>\n",
              "      <td>\\n\\n       This appeal coming on for hearing t...</td>\n",
              "      <td>PREAMBLE</td>\n",
              "    </tr>\n",
              "    <tr>\n",
              "      <th>4</th>\n",
              "      <td>1735</td>\n",
              "      <td>1093</td>\n",
              "      <td>1180</td>\n",
              "      <td>\\n       Heard the learned Counsel for the app...</td>\n",
              "      <td>NONE</td>\n",
              "    </tr>\n",
              "  </tbody>\n",
              "</table>\n",
              "</div>\n",
              "      <button class=\"colab-df-convert\" onclick=\"convertToInteractive('df-6c2e978a-9a8d-49ee-93ac-248fe64cf2e4')\"\n",
              "              title=\"Convert this dataframe to an interactive table.\"\n",
              "              style=\"display:none;\">\n",
              "        \n",
              "  <svg xmlns=\"http://www.w3.org/2000/svg\" height=\"24px\"viewBox=\"0 0 24 24\"\n",
              "       width=\"24px\">\n",
              "    <path d=\"M0 0h24v24H0V0z\" fill=\"none\"/>\n",
              "    <path d=\"M18.56 5.44l.94 2.06.94-2.06 2.06-.94-2.06-.94-.94-2.06-.94 2.06-2.06.94zm-11 1L8.5 8.5l.94-2.06 2.06-.94-2.06-.94L8.5 2.5l-.94 2.06-2.06.94zm10 10l.94 2.06.94-2.06 2.06-.94-2.06-.94-.94-2.06-.94 2.06-2.06.94z\"/><path d=\"M17.41 7.96l-1.37-1.37c-.4-.4-.92-.59-1.43-.59-.52 0-1.04.2-1.43.59L10.3 9.45l-7.72 7.72c-.78.78-.78 2.05 0 2.83L4 21.41c.39.39.9.59 1.41.59.51 0 1.02-.2 1.41-.59l7.78-7.78 2.81-2.81c.8-.78.8-2.07 0-2.86zM5.41 20L4 18.59l7.72-7.72 1.47 1.35L5.41 20z\"/>\n",
              "  </svg>\n",
              "      </button>\n",
              "      \n",
              "  <style>\n",
              "    .colab-df-container {\n",
              "      display:flex;\n",
              "      flex-wrap:wrap;\n",
              "      gap: 12px;\n",
              "    }\n",
              "\n",
              "    .colab-df-convert {\n",
              "      background-color: #E8F0FE;\n",
              "      border: none;\n",
              "      border-radius: 50%;\n",
              "      cursor: pointer;\n",
              "      display: none;\n",
              "      fill: #1967D2;\n",
              "      height: 32px;\n",
              "      padding: 0 0 0 0;\n",
              "      width: 32px;\n",
              "    }\n",
              "\n",
              "    .colab-df-convert:hover {\n",
              "      background-color: #E2EBFA;\n",
              "      box-shadow: 0px 1px 2px rgba(60, 64, 67, 0.3), 0px 1px 3px 1px rgba(60, 64, 67, 0.15);\n",
              "      fill: #174EA6;\n",
              "    }\n",
              "\n",
              "    [theme=dark] .colab-df-convert {\n",
              "      background-color: #3B4455;\n",
              "      fill: #D2E3FC;\n",
              "    }\n",
              "\n",
              "    [theme=dark] .colab-df-convert:hover {\n",
              "      background-color: #434B5C;\n",
              "      box-shadow: 0px 1px 3px 1px rgba(0, 0, 0, 0.15);\n",
              "      filter: drop-shadow(0px 1px 2px rgba(0, 0, 0, 0.3));\n",
              "      fill: #FFFFFF;\n",
              "    }\n",
              "  </style>\n",
              "\n",
              "      <script>\n",
              "        const buttonEl =\n",
              "          document.querySelector('#df-6c2e978a-9a8d-49ee-93ac-248fe64cf2e4 button.colab-df-convert');\n",
              "        buttonEl.style.display =\n",
              "          google.colab.kernel.accessAllowed ? 'block' : 'none';\n",
              "\n",
              "        async function convertToInteractive(key) {\n",
              "          const element = document.querySelector('#df-6c2e978a-9a8d-49ee-93ac-248fe64cf2e4');\n",
              "          const dataTable =\n",
              "            await google.colab.kernel.invokeFunction('convertToInteractive',\n",
              "                                                     [key], {});\n",
              "          if (!dataTable) return;\n",
              "\n",
              "          const docLinkHtml = 'Like what you see? Visit the ' +\n",
              "            '<a target=\"_blank\" href=https://colab.research.google.com/notebooks/data_table.ipynb>data table notebook</a>'\n",
              "            + ' to learn more about interactive tables.';\n",
              "          element.innerHTML = '';\n",
              "          dataTable['output_type'] = 'display_data';\n",
              "          await google.colab.output.renderOutput(dataTable, element);\n",
              "          const docLink = document.createElement('div');\n",
              "          docLink.innerHTML = docLinkHtml;\n",
              "          element.appendChild(docLink);\n",
              "        }\n",
              "      </script>\n",
              "    </div>\n",
              "  </div>\n",
              "  "
            ]
          },
          "metadata": {},
          "execution_count": 13
        }
      ],
      "source": [
        "print(df_train.shape)\n",
        "df_train.head(5)"
      ]
    },
    {
      "cell_type": "code",
      "execution_count": 14,
      "metadata": {
        "colab": {
          "base_uri": "https://localhost:8080/",
          "height": 224
        },
        "id": "387vGJGQA2AD",
        "outputId": "62f55b6b-4d98-4455-aea4-d3c2e90a3d49"
      },
      "outputs": [
        {
          "output_type": "stream",
          "name": "stdout",
          "text": [
            "(2890, 5)\n"
          ]
        },
        {
          "output_type": "execute_result",
          "data": {
            "text/plain": [
              "     id  start  end                                               text  \\\n",
              "0  4180      0   95  PETITIONER:\\nTHE COMMISSIONER OF INCOME-TAXNEW...   \n",
              "1  4180     95  143  \\n\\nDATE OF JUDGMENT:\\n05/05/1961\\n\\nBENCH:\\nD...   \n",
              "2  4180    143  581  \\nBENCH:\\nDAS, S.K.\\nHIDAYATULLAH, M.\\nSHAH, J...   \n",
              "3  4180    582  774  It\\nentered into transactions in the nature of...   \n",
              "4  4180    775  855  The assessee claimed deduction of these\\nlosse...   \n",
              "\n",
              "      label  \n",
              "0  PREAMBLE  \n",
              "1  PREAMBLE  \n",
              "2  PREAMBLE  \n",
              "3  PREAMBLE  \n",
              "4  PREAMBLE  "
            ],
            "text/html": [
              "\n",
              "  <div id=\"df-c70f0d53-f8f7-4d9e-ad80-3f185fd70088\">\n",
              "    <div class=\"colab-df-container\">\n",
              "      <div>\n",
              "<style scoped>\n",
              "    .dataframe tbody tr th:only-of-type {\n",
              "        vertical-align: middle;\n",
              "    }\n",
              "\n",
              "    .dataframe tbody tr th {\n",
              "        vertical-align: top;\n",
              "    }\n",
              "\n",
              "    .dataframe thead th {\n",
              "        text-align: right;\n",
              "    }\n",
              "</style>\n",
              "<table border=\"1\" class=\"dataframe\">\n",
              "  <thead>\n",
              "    <tr style=\"text-align: right;\">\n",
              "      <th></th>\n",
              "      <th>id</th>\n",
              "      <th>start</th>\n",
              "      <th>end</th>\n",
              "      <th>text</th>\n",
              "      <th>label</th>\n",
              "    </tr>\n",
              "  </thead>\n",
              "  <tbody>\n",
              "    <tr>\n",
              "      <th>0</th>\n",
              "      <td>4180</td>\n",
              "      <td>0</td>\n",
              "      <td>95</td>\n",
              "      <td>PETITIONER:\\nTHE COMMISSIONER OF INCOME-TAXNEW...</td>\n",
              "      <td>PREAMBLE</td>\n",
              "    </tr>\n",
              "    <tr>\n",
              "      <th>1</th>\n",
              "      <td>4180</td>\n",
              "      <td>95</td>\n",
              "      <td>143</td>\n",
              "      <td>\\n\\nDATE OF JUDGMENT:\\n05/05/1961\\n\\nBENCH:\\nD...</td>\n",
              "      <td>PREAMBLE</td>\n",
              "    </tr>\n",
              "    <tr>\n",
              "      <th>2</th>\n",
              "      <td>4180</td>\n",
              "      <td>143</td>\n",
              "      <td>581</td>\n",
              "      <td>\\nBENCH:\\nDAS, S.K.\\nHIDAYATULLAH, M.\\nSHAH, J...</td>\n",
              "      <td>PREAMBLE</td>\n",
              "    </tr>\n",
              "    <tr>\n",
              "      <th>3</th>\n",
              "      <td>4180</td>\n",
              "      <td>582</td>\n",
              "      <td>774</td>\n",
              "      <td>It\\nentered into transactions in the nature of...</td>\n",
              "      <td>PREAMBLE</td>\n",
              "    </tr>\n",
              "    <tr>\n",
              "      <th>4</th>\n",
              "      <td>4180</td>\n",
              "      <td>775</td>\n",
              "      <td>855</td>\n",
              "      <td>The assessee claimed deduction of these\\nlosse...</td>\n",
              "      <td>PREAMBLE</td>\n",
              "    </tr>\n",
              "  </tbody>\n",
              "</table>\n",
              "</div>\n",
              "      <button class=\"colab-df-convert\" onclick=\"convertToInteractive('df-c70f0d53-f8f7-4d9e-ad80-3f185fd70088')\"\n",
              "              title=\"Convert this dataframe to an interactive table.\"\n",
              "              style=\"display:none;\">\n",
              "        \n",
              "  <svg xmlns=\"http://www.w3.org/2000/svg\" height=\"24px\"viewBox=\"0 0 24 24\"\n",
              "       width=\"24px\">\n",
              "    <path d=\"M0 0h24v24H0V0z\" fill=\"none\"/>\n",
              "    <path d=\"M18.56 5.44l.94 2.06.94-2.06 2.06-.94-2.06-.94-.94-2.06-.94 2.06-2.06.94zm-11 1L8.5 8.5l.94-2.06 2.06-.94-2.06-.94L8.5 2.5l-.94 2.06-2.06.94zm10 10l.94 2.06.94-2.06 2.06-.94-2.06-.94-.94-2.06-.94 2.06-2.06.94z\"/><path d=\"M17.41 7.96l-1.37-1.37c-.4-.4-.92-.59-1.43-.59-.52 0-1.04.2-1.43.59L10.3 9.45l-7.72 7.72c-.78.78-.78 2.05 0 2.83L4 21.41c.39.39.9.59 1.41.59.51 0 1.02-.2 1.41-.59l7.78-7.78 2.81-2.81c.8-.78.8-2.07 0-2.86zM5.41 20L4 18.59l7.72-7.72 1.47 1.35L5.41 20z\"/>\n",
              "  </svg>\n",
              "      </button>\n",
              "      \n",
              "  <style>\n",
              "    .colab-df-container {\n",
              "      display:flex;\n",
              "      flex-wrap:wrap;\n",
              "      gap: 12px;\n",
              "    }\n",
              "\n",
              "    .colab-df-convert {\n",
              "      background-color: #E8F0FE;\n",
              "      border: none;\n",
              "      border-radius: 50%;\n",
              "      cursor: pointer;\n",
              "      display: none;\n",
              "      fill: #1967D2;\n",
              "      height: 32px;\n",
              "      padding: 0 0 0 0;\n",
              "      width: 32px;\n",
              "    }\n",
              "\n",
              "    .colab-df-convert:hover {\n",
              "      background-color: #E2EBFA;\n",
              "      box-shadow: 0px 1px 2px rgba(60, 64, 67, 0.3), 0px 1px 3px 1px rgba(60, 64, 67, 0.15);\n",
              "      fill: #174EA6;\n",
              "    }\n",
              "\n",
              "    [theme=dark] .colab-df-convert {\n",
              "      background-color: #3B4455;\n",
              "      fill: #D2E3FC;\n",
              "    }\n",
              "\n",
              "    [theme=dark] .colab-df-convert:hover {\n",
              "      background-color: #434B5C;\n",
              "      box-shadow: 0px 1px 3px 1px rgba(0, 0, 0, 0.15);\n",
              "      filter: drop-shadow(0px 1px 2px rgba(0, 0, 0, 0.3));\n",
              "      fill: #FFFFFF;\n",
              "    }\n",
              "  </style>\n",
              "\n",
              "      <script>\n",
              "        const buttonEl =\n",
              "          document.querySelector('#df-c70f0d53-f8f7-4d9e-ad80-3f185fd70088 button.colab-df-convert');\n",
              "        buttonEl.style.display =\n",
              "          google.colab.kernel.accessAllowed ? 'block' : 'none';\n",
              "\n",
              "        async function convertToInteractive(key) {\n",
              "          const element = document.querySelector('#df-c70f0d53-f8f7-4d9e-ad80-3f185fd70088');\n",
              "          const dataTable =\n",
              "            await google.colab.kernel.invokeFunction('convertToInteractive',\n",
              "                                                     [key], {});\n",
              "          if (!dataTable) return;\n",
              "\n",
              "          const docLinkHtml = 'Like what you see? Visit the ' +\n",
              "            '<a target=\"_blank\" href=https://colab.research.google.com/notebooks/data_table.ipynb>data table notebook</a>'\n",
              "            + ' to learn more about interactive tables.';\n",
              "          element.innerHTML = '';\n",
              "          dataTable['output_type'] = 'display_data';\n",
              "          await google.colab.output.renderOutput(dataTable, element);\n",
              "          const docLink = document.createElement('div');\n",
              "          docLink.innerHTML = docLinkHtml;\n",
              "          element.appendChild(docLink);\n",
              "        }\n",
              "      </script>\n",
              "    </div>\n",
              "  </div>\n",
              "  "
            ]
          },
          "metadata": {},
          "execution_count": 14
        }
      ],
      "source": [
        "print(df_test.shape)\n",
        "df_test.head(5)"
      ]
    },
    {
      "cell_type": "code",
      "execution_count": 15,
      "metadata": {
        "colab": {
          "base_uri": "https://localhost:8080/"
        },
        "id": "ksShwk8nA2AD",
        "outputId": "ca1b860c-c2f8-49ff-b0ee-c056534c8a57"
      },
      "outputs": [
        {
          "output_type": "execute_result",
          "data": {
            "text/plain": [
              "array(['PREAMBLE', 'NONE', 'FAC', 'ARG_RESPONDENT', 'RLC',\n",
              "       'ARG_PETITIONER', 'ANALYSIS', 'PRE_RELIED', 'RATIO', 'RPC',\n",
              "       'ISSUE', 'STA', 'PRE_NOT_RELIED'], dtype=object)"
            ]
          },
          "metadata": {},
          "execution_count": 15
        }
      ],
      "source": [
        "df_train.label.unique()"
      ]
    },
    {
      "cell_type": "code",
      "execution_count": 16,
      "metadata": {
        "colab": {
          "base_uri": "https://localhost:8080/",
          "height": 498
        },
        "id": "saRQKxW8A2AD",
        "outputId": "cb740084-f83f-48fd-b532-c63ac2f6982c"
      },
      "outputs": [
        {
          "output_type": "display_data",
          "data": {
            "text/plain": [
              "<Figure size 1296x576 with 1 Axes>"
            ],
            "image/png": "[encoded data removed]"
          },
          "metadata": {
            "needs_background": "light"
          }
        }
      ],
      "source": [
        "temp = df_train.groupby('label').agg(count=('label','count')).reset_index().sort_values('count', ascending=False)\n",
        "plt.figure(figsize=(18,8))\n",
        "sns.barplot(data=temp,\n",
        "            x='label',\n",
        "            y='count')\n",
        "plt.show()"
      ]
    },
    {
      "cell_type": "markdown",
      "source": [
        "## Preprocesamiento"
      ],
      "metadata": {
        "id": "NEzsQ55NcYFo"
      }
    },
    {
      "cell_type": "code",
      "source": [
        "def sin_especiales(text):\n",
        "  # Removemos signos de puntuación\n",
        "  regex = '[' + string.punctuation + '\\t\\n¿,.–¡”“\"]'  \n",
        "  text = re.sub(regex, \"\", text)\n",
        "\n",
        "  # Eliminamos espacio entre y afuera de las palabras\n",
        "  text = re.sub(r'\\s+', ' ', text).strip()\n",
        "\n",
        "  # Transformamos minusculas\n",
        "  text = text.lower()\n",
        "\n",
        "  clean_text = text\n",
        "  return clean_text\n",
        "\n",
        "def sin_contracciones(text: str) -> str:  \n",
        "  expanded_words = [contractions.fix(word) for word in text.split(\" \")]\n",
        "  return \" \".join(expanded_words)  \n",
        "\n",
        "\n",
        "def sin_stopwords(text: str) -> str:\n",
        "  \"\"\"Remove stop words\"\"\"\n",
        "  tokens = nltk.word_tokenize(text)\n",
        "  # Remove las stopwords\n",
        "  without_stopwords = [word for word in tokens \n",
        "                       if not stopwords.get(word.lower().strip(), False)]\n",
        "  return \" \".join(without_stopwords)  \n",
        "\n",
        "def clean_text(text):\n",
        "  return sin_stopwords(sin_contracciones(sin_contracciones(sin_especiales(text))))"
      ],
      "metadata": {
        "id": "okQFeD0Mx07x"
      },
      "execution_count": 17,
      "outputs": []
    },
    {
      "cell_type": "code",
      "source": [
        "# Sin procesar\n",
        "df_train['text']"
      ],
      "metadata": {
        "colab": {
          "base_uri": "https://localhost:8080/"
        },
        "id": "optjIsH_dC5F",
        "outputId": "fae6a68c-a729-4309-8c94-bd85128bcbcd"
      },
      "execution_count": 18,
      "outputs": [
        {
          "output_type": "execute_result",
          "data": {
            "text/plain": [
              "0              IN THE HIGH COURT OF KARNATAKA,\\n       ...\n",
              "1        \\n\\n      BEFORE\\n\\nTHE HON'BLE MR.JUSTICE ANA...\n",
              "2        This Criminal Appeal is filed under Section 37...\n",
              "3        \\n\\n       This appeal coming on for hearing t...\n",
              "4        \\n       Heard the learned Counsel for the app...\n",
              "                               ...                        \n",
              "28981    \\n So Section 132 of the Evidence Act sufficie...\n",
              "28982    \\n For the reasons aforesaid, the appeal is al...\n",
              "28983    The judgment and order dated April 27, 1987 pa...\n",
              "28984                                            \\n R.S.S.\n",
              "28985                                      Appeal allowed.\n",
              "Name: text, Length: 28836, dtype: object"
            ]
          },
          "metadata": {},
          "execution_count": 18
        }
      ]
    },
    {
      "cell_type": "code",
      "source": [
        "print(df_train['text'][3])"
      ],
      "metadata": {
        "colab": {
          "base_uri": "https://localhost:8080/"
        },
        "id": "ui6hjeHMqjdr",
        "outputId": "1d3488df-c5eb-4d50-8e51-b8251fafcee1"
      },
      "execution_count": 19,
      "outputs": [
        {
          "output_type": "stream",
          "name": "stdout",
          "text": [
            "\n",
            "\n",
            "       This appeal coming on for hearing this day, the court\n",
            "delivered the following :-\n",
            "\n",
            "                              JUDGMENT\n"
          ]
        }
      ]
    },
    {
      "cell_type": "code",
      "source": [
        "# Con procesar\n",
        "df_train['sin_especiales'] = df_train['text'].apply(sin_especiales)\n",
        "df_train['sin_contracciones'] = df_train['sin_especiales'].apply(sin_contracciones)\n",
        "df_train['sin_stopwords'] = df_train['sin_contracciones'].apply(sin_stopwords)\n",
        "\n",
        "df_train.head()"
      ],
      "metadata": {
        "colab": {
          "base_uri": "https://localhost:8080/",
          "height": 337
        },
        "id": "cbPXvElddMBN",
        "outputId": "2849b076-f974-4ff8-f566-056d045daa92"
      },
      "execution_count": 20,
      "outputs": [
        {
          "output_type": "execute_result",
          "data": {
            "text/plain": [
              "     id  start   end                                               text  \\\n",
              "0  1735      0   116        IN THE HIGH COURT OF KARNATAKA,\\n       ...   \n",
              "1  1735    116   678  \\n\\n      BEFORE\\n\\nTHE HON'BLE MR.JUSTICE ANA...   \n",
              "2  1735    678   964  This Criminal Appeal is filed under Section 37...   \n",
              "3  1735    964  1093  \\n\\n       This appeal coming on for hearing t...   \n",
              "4  1735   1093  1180  \\n       Heard the learned Counsel for the app...   \n",
              "\n",
              "      label                                     sin_especiales  \\\n",
              "0  PREAMBLE  in the high court of karnataka circuit bench a...   \n",
              "1  PREAMBLE  beforethe honble mrjustice anand byrareddy cri...   \n",
              "2  PREAMBLE  this criminal appeal is filed under section 37...   \n",
              "3  PREAMBLE  this appeal coming on for hearing this day the...   \n",
              "4      NONE  heard the learned counsel for the appellant an...   \n",
              "\n",
              "                                   sin_contracciones  \\\n",
              "0  in the high court of karnataka circuit bench a...   \n",
              "1  beforethe honble mrjustice anand byrareddy cri...   \n",
              "2  this criminal appeal is filed under section 37...   \n",
              "3  this appeal coming on for hearing this day the...   \n",
              "4  heard the learned counsel for the appellant an...   \n",
              "\n",
              "                                       sin_stopwords  \n",
              "0  high court karnataka circuit bench gulbargadat...  \n",
              "1  beforethe honble mrjustice anand byrareddy cri...  \n",
              "2  criminal appeal filed section 3742 thecode cri...  \n",
              "3  appeal coming hearing day courtdelivered judgment  \n",
              "4  heard learned counsel appellant learned govern...  "
            ],
            "text/html": [
              "\n",
              "  <div id=\"df-81985b30-e18c-46bb-b6ca-0d1a0278d0d9\">\n",
              "    <div class=\"colab-df-container\">\n",
              "      <div>\n",
              "<style scoped>\n",
              "    .dataframe tbody tr th:only-of-type {\n",
              "        vertical-align: middle;\n",
              "    }\n",
              "\n",
              "    .dataframe tbody tr th {\n",
              "        vertical-align: top;\n",
              "    }\n",
              "\n",
              "    .dataframe thead th {\n",
              "        text-align: right;\n",
              "    }\n",
              "</style>\n",
              "<table border=\"1\" class=\"dataframe\">\n",
              "  <thead>\n",
              "    <tr style=\"text-align: right;\">\n",
              "      <th></th>\n",
              "      <th>id</th>\n",
              "      <th>start</th>\n",
              "      <th>end</th>\n",
              "      <th>text</th>\n",
              "      <th>label</th>\n",
              "      <th>sin_especiales</th>\n",
              "      <th>sin_contracciones</th>\n",
              "      <th>sin_stopwords</th>\n",
              "    </tr>\n",
              "  </thead>\n",
              "  <tbody>\n",
              "    <tr>\n",
              "      <th>0</th>\n",
              "      <td>1735</td>\n",
              "      <td>0</td>\n",
              "      <td>116</td>\n",
              "      <td>IN THE HIGH COURT OF KARNATAKA,\\n       ...</td>\n",
              "      <td>PREAMBLE</td>\n",
              "      <td>in the high court of karnataka circuit bench a...</td>\n",
              "      <td>in the high court of karnataka circuit bench a...</td>\n",
              "      <td>high court karnataka circuit bench gulbargadat...</td>\n",
              "    </tr>\n",
              "    <tr>\n",
              "      <th>1</th>\n",
              "      <td>1735</td>\n",
              "      <td>116</td>\n",
              "      <td>678</td>\n",
              "      <td>\\n\\n      BEFORE\\n\\nTHE HON'BLE MR.JUSTICE ANA...</td>\n",
              "      <td>PREAMBLE</td>\n",
              "      <td>beforethe honble mrjustice anand byrareddy cri...</td>\n",
              "      <td>beforethe honble mrjustice anand byrareddy cri...</td>\n",
              "      <td>beforethe honble mrjustice anand byrareddy cri...</td>\n",
              "    </tr>\n",
              "    <tr>\n",
              "      <th>2</th>\n",
              "      <td>1735</td>\n",
              "      <td>678</td>\n",
              "      <td>964</td>\n",
              "      <td>This Criminal Appeal is filed under Section 37...</td>\n",
              "      <td>PREAMBLE</td>\n",
              "      <td>this criminal appeal is filed under section 37...</td>\n",
              "      <td>this criminal appeal is filed under section 37...</td>\n",
              "      <td>criminal appeal filed section 3742 thecode cri...</td>\n",
              "    </tr>\n",
              "    <tr>\n",
              "      <th>3</th>\n",
              "      <td>1735</td>\n",
              "      <td>964</td>\n",
              "      <td>1093</td>\n",
              "      <td>\\n\\n       This appeal coming on for hearing t...</td>\n",
              "      <td>PREAMBLE</td>\n",
              "      <td>this appeal coming on for hearing this day the...</td>\n",
              "      <td>this appeal coming on for hearing this day the...</td>\n",
              "      <td>appeal coming hearing day courtdelivered judgment</td>\n",
              "    </tr>\n",
              "    <tr>\n",
              "      <th>4</th>\n",
              "      <td>1735</td>\n",
              "      <td>1093</td>\n",
              "      <td>1180</td>\n",
              "      <td>\\n       Heard the learned Counsel for the app...</td>\n",
              "      <td>NONE</td>\n",
              "      <td>heard the learned counsel for the appellant an...</td>\n",
              "      <td>heard the learned counsel for the appellant an...</td>\n",
              "      <td>heard learned counsel appellant learned govern...</td>\n",
              "    </tr>\n",
              "  </tbody>\n",
              "</table>\n",
              "</div>\n",
              "      <button class=\"colab-df-convert\" onclick=\"convertToInteractive('df-81985b30-e18c-46bb-b6ca-0d1a0278d0d9')\"\n",
              "              title=\"Convert this dataframe to an interactive table.\"\n",
              "              style=\"display:none;\">\n",
              "        \n",
              "  <svg xmlns=\"http://www.w3.org/2000/svg\" height=\"24px\"viewBox=\"0 0 24 24\"\n",
              "       width=\"24px\">\n",
              "    <path d=\"M0 0h24v24H0V0z\" fill=\"none\"/>\n",
              "    <path d=\"M18.56 5.44l.94 2.06.94-2.06 2.06-.94-2.06-.94-.94-2.06-.94 2.06-2.06.94zm-11 1L8.5 8.5l.94-2.06 2.06-.94-2.06-.94L8.5 2.5l-.94 2.06-2.06.94zm10 10l.94 2.06.94-2.06 2.06-.94-2.06-.94-.94-2.06-.94 2.06-2.06.94z\"/><path d=\"M17.41 7.96l-1.37-1.37c-.4-.4-.92-.59-1.43-.59-.52 0-1.04.2-1.43.59L10.3 9.45l-7.72 7.72c-.78.78-.78 2.05 0 2.83L4 21.41c.39.39.9.59 1.41.59.51 0 1.02-.2 1.41-.59l7.78-7.78 2.81-2.81c.8-.78.8-2.07 0-2.86zM5.41 20L4 18.59l7.72-7.72 1.47 1.35L5.41 20z\"/>\n",
              "  </svg>\n",
              "      </button>\n",
              "      \n",
              "  <style>\n",
              "    .colab-df-container {\n",
              "      display:flex;\n",
              "      flex-wrap:wrap;\n",
              "      gap: 12px;\n",
              "    }\n",
              "\n",
              "    .colab-df-convert {\n",
              "      background-color: #E8F0FE;\n",
              "      border: none;\n",
              "      border-radius: 50%;\n",
              "      cursor: pointer;\n",
              "      display: none;\n",
              "      fill: #1967D2;\n",
              "      height: 32px;\n",
              "      padding: 0 0 0 0;\n",
              "      width: 32px;\n",
              "    }\n",
              "\n",
              "    .colab-df-convert:hover {\n",
              "      background-color: #E2EBFA;\n",
              "      box-shadow: 0px 1px 2px rgba(60, 64, 67, 0.3), 0px 1px 3px 1px rgba(60, 64, 67, 0.15);\n",
              "      fill: #174EA6;\n",
              "    }\n",
              "\n",
              "    [theme=dark] .colab-df-convert {\n",
              "      background-color: #3B4455;\n",
              "      fill: #D2E3FC;\n",
              "    }\n",
              "\n",
              "    [theme=dark] .colab-df-convert:hover {\n",
              "      background-color: #434B5C;\n",
              "      box-shadow: 0px 1px 3px 1px rgba(0, 0, 0, 0.15);\n",
              "      filter: drop-shadow(0px 1px 2px rgba(0, 0, 0, 0.3));\n",
              "      fill: #FFFFFF;\n",
              "    }\n",
              "  </style>\n",
              "\n",
              "      <script>\n",
              "        const buttonEl =\n",
              "          document.querySelector('#df-81985b30-e18c-46bb-b6ca-0d1a0278d0d9 button.colab-df-convert');\n",
              "        buttonEl.style.display =\n",
              "          google.colab.kernel.accessAllowed ? 'block' : 'none';\n",
              "\n",
              "        async function convertToInteractive(key) {\n",
              "          const element = document.querySelector('#df-81985b30-e18c-46bb-b6ca-0d1a0278d0d9');\n",
              "          const dataTable =\n",
              "            await google.colab.kernel.invokeFunction('convertToInteractive',\n",
              "                                                     [key], {});\n",
              "          if (!dataTable) return;\n",
              "\n",
              "          const docLinkHtml = 'Like what you see? Visit the ' +\n",
              "            '<a target=\"_blank\" href=https://colab.research.google.com/notebooks/data_table.ipynb>data table notebook</a>'\n",
              "            + ' to learn more about interactive tables.';\n",
              "          element.innerHTML = '';\n",
              "          dataTable['output_type'] = 'display_data';\n",
              "          await google.colab.output.renderOutput(dataTable, element);\n",
              "          const docLink = document.createElement('div');\n",
              "          docLink.innerHTML = docLinkHtml;\n",
              "          element.appendChild(docLink);\n",
              "        }\n",
              "      </script>\n",
              "    </div>\n",
              "  </div>\n",
              "  "
            ]
          },
          "metadata": {},
          "execution_count": 20
        }
      ]
    },
    {
      "cell_type": "code",
      "source": [
        "df_train.to_csv('train.csv')"
      ],
      "metadata": {
        "id": "594PMSr80MQU"
      },
      "execution_count": 21,
      "outputs": []
    },
    {
      "cell_type": "markdown",
      "source": [
        "## LegalEval-Baseline\n",
        "\n",
        "\n"
      ],
      "metadata": {
        "id": "G1T7cTmvcqWU"
      }
    },
    {
      "cell_type": "markdown",
      "source": [
        "### Term Frequency–Inverse Document Frequency"
      ],
      "metadata": {
        "id": "r5cWq3MWf75L"
      }
    },
    {
      "cell_type": "code",
      "source": [
        "# Ejemplo\n",
        "corpus = [\n",
        "    \"The elephant sneezed at the sight of potatoes.\",\n",
        "    \"Bats can see via echolocation. See the bat sight sneeze!\",\n",
        "    \"Wondering, she opened the door to the studio.\",\n",
        "    ]\n",
        "\n",
        "tfidf  = TfidfVectorizer()\n",
        "corpus = tfidf.fit_transform(corpus)\n",
        "corpus.todense()"
      ],
      "metadata": {
        "id": "J8DwyX3_CJTm",
        "colab": {
          "base_uri": "https://localhost:8080/"
        },
        "outputId": "f33db282-deeb-48ea-ef41-e9aeb39ccdc0"
      },
      "execution_count": 22,
      "outputs": [
        {
          "output_type": "execute_result",
          "data": {
            "text/plain": [
              "matrix([[0.37867627, 0.        , 0.        , 0.        , 0.        ,\n",
              "         0.        , 0.37867627, 0.37867627, 0.        , 0.37867627,\n",
              "         0.        , 0.        , 0.28799306, 0.        , 0.37867627,\n",
              "         0.        , 0.44730461, 0.        , 0.        , 0.        ],\n",
              "        [0.        , 0.30251368, 0.30251368, 0.30251368, 0.        ,\n",
              "         0.30251368, 0.        , 0.        , 0.        , 0.        ,\n",
              "         0.60502736, 0.        , 0.23006945, 0.30251368, 0.        ,\n",
              "         0.        , 0.17866945, 0.        , 0.30251368, 0.        ],\n",
              "        [0.        , 0.        , 0.        , 0.        , 0.36772387,\n",
              "         0.        , 0.        , 0.        , 0.36772387, 0.        ,\n",
              "         0.        , 0.36772387, 0.        , 0.        , 0.        ,\n",
              "         0.36772387, 0.43436728, 0.36772387, 0.        , 0.36772387]])"
            ]
          },
          "metadata": {},
          "execution_count": 22
        }
      ]
    },
    {
      "cell_type": "markdown",
      "source": [
        "### Datos originales"
      ],
      "metadata": {
        "id": "KDiAE3m44YAG"
      }
    },
    {
      "cell_type": "code",
      "source": [
        "corpus = df_train['text'].apply(clean_text).tolist()\n",
        "tfidf  = TfidfVectorizer()\n",
        "corpus = tfidf.fit_transform(corpus)\n",
        "\n",
        "corpus.shape"
      ],
      "metadata": {
        "id": "gmT0L7OJJynP",
        "colab": {
          "base_uri": "https://localhost:8080/"
        },
        "outputId": "4bfd7848-2f25-436f-a5c1-f32ab3499be2"
      },
      "execution_count": 23,
      "outputs": [
        {
          "output_type": "execute_result",
          "data": {
            "text/plain": [
              "(28836, 30708)"
            ]
          },
          "metadata": {},
          "execution_count": 23
        }
      ]
    },
    {
      "cell_type": "code",
      "source": [
        "df_train['label'].values.shape"
      ],
      "metadata": {
        "id": "740cypMUKY1s",
        "colab": {
          "base_uri": "https://localhost:8080/"
        },
        "outputId": "78bee8e5-93f8-4a33-ae4a-0b19856f06e8"
      },
      "execution_count": 24,
      "outputs": [
        {
          "output_type": "execute_result",
          "data": {
            "text/plain": [
              "(28836,)"
            ]
          },
          "metadata": {},
          "execution_count": 24
        }
      ]
    },
    {
      "cell_type": "markdown",
      "source": [
        "## Modelo"
      ],
      "metadata": {
        "id": "1EUnw0ZlhGiA"
      }
    },
    {
      "cell_type": "markdown",
      "source": [
        "Creando un conjunto de entrenamiento y validacion"
      ],
      "metadata": {
        "id": "eO079yNxjiHz"
      }
    },
    {
      "cell_type": "code",
      "source": [
        "from sklearn.model_selection import train_test_split\n",
        "\n",
        "#X =  np.asarray(corpus.todense()) # Cast to matrix -> array\n",
        "X = corpus\n",
        "y = df_train[['label']].values\n",
        "X_train, X_test, y_train, y_test = train_test_split(X, y, test_size=0.2, random_state=42)"
      ],
      "metadata": {
        "id": "LuF7CDaTjHuP"
      },
      "execution_count": 26,
      "outputs": []
    },
    {
      "cell_type": "markdown",
      "source": [
        "Probando con diferentes modelos"
      ],
      "metadata": {
        "id": "Cxc5fpftjeMQ"
      }
    },
    {
      "cell_type": "code",
      "source": [
        "from sklearn.metrics import classification_report\n",
        "from sklearn.naive_bayes import MultinomialNB\n",
        "\n",
        "model = MultinomialNB(alpha=1.0e-10)\n",
        "model.fit(X_train, y_train)\n",
        "y_pred = model.predict(X_test)\n",
        "\n",
        "print(classification_report(y_test, y_pred))"
      ],
      "metadata": {
        "id": "Zc08-pFCKKdP",
        "colab": {
          "base_uri": "https://localhost:8080/"
        },
        "outputId": "1e2bb66e-766a-4fab-cbf0-acf75c5fe540"
      },
      "execution_count": 27,
      "outputs": [
        {
          "output_type": "stream",
          "name": "stderr",
          "text": [
            "/usr/local/lib/python3.7/dist-packages/sklearn/utils/validation.py:993: DataConversionWarning: A column-vector y was passed when a 1d array was expected. Please change the shape of y to (n_samples, ), for example using ravel().\n",
            "  y = column_or_1d(y, warn=True)\n"
          ]
        },
        {
          "output_type": "stream",
          "name": "stdout",
          "text": [
            "                precision    recall  f1-score   support\n",
            "\n",
            "      ANALYSIS       0.55      0.75      0.63      2127\n",
            "ARG_PETITIONER       0.47      0.26      0.33       290\n",
            "ARG_RESPONDENT       0.41      0.18      0.26       130\n",
            "           FAC       0.55      0.51      0.53      1106\n",
            "         ISSUE       0.62      0.20      0.30        76\n",
            "          NONE       0.53      0.54      0.53       269\n",
            "      PREAMBLE       0.74      0.56      0.64       843\n",
            "PRE_NOT_RELIED       0.00      0.00      0.00        31\n",
            "    PRE_RELIED       0.32      0.25      0.28       268\n",
            "         RATIO       0.13      0.06      0.08       134\n",
            "           RLC       0.32      0.19      0.24       147\n",
            "           RPC       0.60      0.50      0.55       238\n",
            "           STA       0.35      0.22      0.27       109\n",
            "\n",
            "      accuracy                           0.55      5768\n",
            "     macro avg       0.43      0.33      0.36      5768\n",
            "  weighted avg       0.54      0.55      0.53      5768\n",
            "\n"
          ]
        }
      ]
    },
    {
      "cell_type": "code",
      "source": [
        "model.score(X_train, y_train)"
      ],
      "metadata": {
        "colab": {
          "base_uri": "https://localhost:8080/"
        },
        "id": "2GFkBKbvnYV7",
        "outputId": "e053fd7f-889c-4d32-f616-cadda9d8bb91"
      },
      "execution_count": 28,
      "outputs": [
        {
          "output_type": "execute_result",
          "data": {
            "text/plain": [
              "0.843809606381134"
            ]
          },
          "metadata": {},
          "execution_count": 28
        }
      ]
    }
  ],
  "metadata": {
    "kernelspec": {
      "display_name": "Python 3.9.5 64-bit",
      "language": "python",
      "name": "python3"
    },
    "language_info": {
      "codemirror_mode": {
        "name": "ipython",
        "version": 3
      },
      "file_extension": ".py",
      "mimetype": "text/x-python",
      "name": "python",
      "nbconvert_exporter": "python",
      "pygments_lexer": "ipython3",
      "version": "3.9.5"
    },
    "orig_nbformat": 4,
    "vscode": {
      "interpreter": {
        "hash": "11938c6bc6919ae2720b4d5011047913343b08a43b18698fd82dedb0d4417594"
      }
    },
    "colab": {
      "provenance": [],
      "collapsed_sections": []
    }
  },
  "nbformat": 4,
  "nbformat_minor": 0
}